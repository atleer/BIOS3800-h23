{
 "cells": [
  {
   "cell_type": "markdown",
   "id": "22d97131",
   "metadata": {},
   "source": [
    "# Urine Lab"
   ]
  },
  {
   "cell_type": "markdown",
   "id": "21a442c9",
   "metadata": {
    "jp-MarkdownHeadingCollapsed": true,
    "tags": []
   },
   "source": [
    "This course previously included a Urine themed wet-lab, where students would imbibe various liquids and urinate in cups at set intervals of time. The purpose of the lab was to assess how drinking large amounts of water, beer, acidic or basic solutions would affect urine volume, osmolarity and pH. In this first computer lab of BIOS3800, we will use the data from last year's urine lab to refresh our python skills, while also considering the physiology of how our bodies maintain water and salt balances. \n",
    "\n",
    "It is essential to life that body water content is maintained between certain limits. In an average body, water makes up about 60% of the body weight in males and 55% in females. This difference reflects the fact that females normally have a slightly higher proportion of fat, and fat cells contain little water. Of this body water, two thirds is in the cells and one third is extracellular, with the plasma comprising about 20% of the total extracellular fluid volume. The other 80% lies between the capillary walls and the cells and is called the interstitial fluid. The most important function of the kidneys is the homeostatic regulation of the water and ion content of the blood and thereby the total liquid content of the body. Waste removal is also important, but disturbances in blood volume or ion levels cause serious problems before the accumulation of metabolic wastes reaches toxic levels.\n",
    "\n",
    "## Learning outcomes\n",
    "### Biology\n",
    "1. How does our body process water?\n",
    "2. How is our urine affected by:\n",
    "   - Large amounts of water.\n",
    "   - Alcohol.\n",
    "   - Acidic or basic solutions.\n",
    "\n",
    "### Python refresher\n",
    "1. Loading and viewing data from file with Pandas\n",
    "2. Indexing rows and columns of a pandas dataframe (table) \n",
    "2. Simple summary statistics from a data sequence (e.g. list / pandas.series / array)\n",
    "3. Plotting with matplotlib\n",
    "4. Statistical testing"
   ]
  },
  {
   "cell_type": "markdown",
   "id": "f23c716a",
   "metadata": {
    "tags": []
   },
   "source": [
    "## Exercise 1 - Loading data"
   ]
  },
  {
   "cell_type": "markdown",
   "id": "6f3053a2",
   "metadata": {},
   "source": [
    "In this exercise we are going to import urine data. The data is made available in your current path, which means we do not have to specify where, but only the name of the file. To import the data we will make use of the *pandas* package. \n",
    "\n",
    "Previously in BIOS1100 we have often been given the the functions we need to use. In reality, we have to be able to search for the functionality we need online. Typically this just means doing simple google-searches for keywords related to what we want python to do for us, e.g. \"loading csv data pandas\". \n",
    "\n",
    "---\n",
    "\n",
    "### How to find and read package documentation\n",
    "*This section provides a general strategy for finding python-package functionality and how to use it.*\n",
    "\n",
    "Otherwise, we also encourage you to check out the documentation provided by the package. For pandas this can be found by again simply googling \"pandas\", which will give you the website: https://pandas.pydata.org/. In the top you can navigate to \"Documentation\" followed by \"API reference\". On the left-hand side you will find \"Input/output\" - which is the functionality we are interested in - to load/input data from file. Finally, you can click on \"pandas.read_csv\" which gives you the description of the function you are interested in. This may seem a bit verbose and daunting in the beginning, but don't worry, we do not have to read everything, only the bits we need. Here is a strategy for what you need to pay attention to when reading the documentation:\n",
    "1. What is the **function name**? We need this to be able to use the function. In this case it is \"pandas.read_csv\"\n",
    "2. How many **inputs/arguments/parameters** (these words may be used interchangably) must the function have? Only arguments without a trailing \"=\" and a default value attached to it is compulsory, the rest are optional. In this case, it is only the argument \"filepath_or_buffer\" that is needed - so **one** required argument.\n",
    "3. Optional (if you need to understand what the argument means). Scroll a bit down to \"Parameters\", and read the description of the arguments you realised you required from step 2. The most relevant bit here is perhaps that the argument accepts a \"str\", i.e. a string.\n",
    "4. This is probably the **easiest and most important step** to learn how to use a function. Scroll all the way to the bottom of the package and see **\"Examples\"**. OBS! Note that in this example, they assume that you have already imported pandas and called it \"pd\", this can be done with \"import pandas as pd\".\n",
    "\n",
    "\n",
    "[<img src=\"attachment:19f36b92-012d-4931-a3cd-8848bbefbe68.png\" width=\"300\"/>]()\n",
    "\n",
    "**Image caption** *pandas.read_csv documentation with highlights of important bits*\n",
    "\n",
    "If it is **still hard to understand** how to use the function, try googling it - something along the lines \"how to use pandas.read_csv\". Then click on links and scroll through the sites to view enough examples until it becomes clear.\n",
    "\n",
    "---\n",
    "\n",
    "\n",
    "**a)** \n",
    "Load the \"urine.csv\"-file using functionality from the pandas package and store it in a variable called \"urine_data\". Inspect the urine data by printing it. *Tip!* In jupyter-notebooks the last code-line gets automatically printed. However, the formatting is different. With pandas dataframes it is usually nicer to omit the print."
   ]
  },
  {
   "cell_type": "code",
   "execution_count": null,
   "id": "c8405c8b",
   "metadata": {},
   "outputs": [],
   "source": [
    "# hint! Start by importing the pandas package\n"
   ]
  },
  {
   "cell_type": "markdown",
   "id": "cc5e3ad9",
   "metadata": {},
   "source": [
    "**b)** Now we have all of the data loaded in a pandas dataframe (think of an excel spreadsheet or a table). Typically we want to fetch a single row or column from this table. We can get a column from a pandas dataframe by indexing the header of the column. We can ask google how to index a row (of a pandas dataframe).\n",
    "\n",
    "Index the column \"time_0\" in the \"urine_data\" and store it in a variable called \"urine_time_one\". Then, index row 0 in the \"urine_data\" and store it in a variable called \"urine_person_one\". Print both variables."
   ]
  },
  {
   "cell_type": "code",
   "execution_count": null,
   "id": "c16b6227",
   "metadata": {},
   "outputs": [],
   "source": []
  },
  {
   "cell_type": "markdown",
   "id": "bf40fdc1",
   "metadata": {},
   "source": [
    "**c)** *Optional*. In BIOS1100 we usually converted columns from a pandas. Dataframe (a pandas.Series) to lists. We did this because we were more used to working with lists. This is not necessary, but possible if you feel like its easier to work with lists than pandas.Series. \n",
    "\n",
    "Convert \"urine_person_one\" and \"urine_time_one\" to lists and print them."
   ]
  },
  {
   "cell_type": "code",
   "execution_count": null,
   "id": "1d85e725",
   "metadata": {},
   "outputs": [],
   "source": []
  },
  {
   "cell_type": "markdown",
   "id": "eb7f4dc2",
   "metadata": {
    "tags": []
   },
   "source": [
    "## Exercise 2 Data summaries\n",
    "\n",
    "In the previous exercise we loaded and printed the urine data. There is too much data, however, to easily learn anything from it directly. In this exercise we want to get some brief intuitions about the data. We do this by simple summary statistics, such as showing the smallest, largest, average and standard deviation of the data. This tells us about the range (smallest, highest), center and spread of urine values."
   ]
  },
  {
   "cell_type": "markdown",
   "id": "1bee7890",
   "metadata": {},
   "source": [
    "**a)** Compute minimum and maximum urine values across participants for each time point using built-in pandas functionality. **Hint!** Here is the pandas documentation for the minimum command: https://pandas.pydata.org/docs/reference/api/pandas.DataFrame.min.html"
   ]
  },
  {
   "cell_type": "code",
   "execution_count": null,
   "id": "8e01b5ae",
   "metadata": {},
   "outputs": [],
   "source": []
  },
  {
   "cell_type": "markdown",
   "id": "29562f00",
   "metadata": {},
   "source": [
    "**b)** The formula for computing the average/mean $\\bar{x}$ is given by\n",
    "\n",
    "$$\n",
    "\\begin{equation}\n",
    "\\bar{x} = \\frac{1}{N} \\left( x_0 + x_2 + ...+ x_{N-1} \\right) = \\frac{1}{N} \\sum_{i=0}^{N-1} x_i,\n",
    "\\tag{1}\n",
    "\\end{equation}\n",
    "$$\n",
    "\n",
    "where $x_i$ is one data point (sample), and N is the amount of data points in the dataset.\n",
    "\n",
    "Complete the below program (by filling in the blanks '\\_\\_\\_') to compute the average urine value across participants for **the first time point** using a loop. *Hint!* Use the variable \"urine_time_one\" that you extracted in exercise 1 b)."
   ]
  },
  {
   "cell_type": "code",
   "execution_count": null,
   "id": "ff1da072",
   "metadata": {},
   "outputs": [],
   "source": [
    "# create a variable to sum values into, and find the data length N\n",
    "average_urine_time_one = 0\n",
    "N = len(___)\n",
    "\n",
    "# Sum all urine values into the 'average_urine_time_one' variable\n",
    "for i in range(___):\n",
    "    average_urine_time_one = average_urine_time_one + ___\n",
    "\n",
    "# Divide the sum by the amount of samples to arrive at the mean\n",
    "average_urine_time_one = ___\n",
    "\n",
    "# show result\n",
    "print(average_urine_time_one)"
   ]
  },
  {
   "cell_type": "markdown",
   "id": "11d673fd",
   "metadata": {},
   "source": [
    "**c)** Compute the average urine values across participants **for all** time points using built-in pandas functionality. Save it in a variable called \"average_urine_over_time\". Do you get the same mean value for the first time step as you computed in exercise 2 b)? If not, try to fix it. "
   ]
  },
  {
   "cell_type": "code",
   "execution_count": null,
   "id": "09dc79a3",
   "metadata": {},
   "outputs": [],
   "source": []
  },
  {
   "cell_type": "markdown",
   "id": "6b628c2f",
   "metadata": {},
   "source": [
    "**d)** The standard deviation $\\sigma$ gives us a measure of the spread in the data. It can be computed as\n",
    "\n",
    "$$\n",
    "\\begin{equation}\n",
    "\\sigma = \\sqrt{\\frac{1}{N} \\sum_{i=0}^{N-1} (\\bar{x} - x_i)^2},\n",
    "\\tag{2}\n",
    "\\end{equation}\n",
    "$$\n",
    "\n",
    "where $x_i$ is one data point (sample), and N is the amount of data points in the dataset and $\\bar{x}$ is the mean, as given in Equation 1, in exercise 2 b).\n",
    "\n",
    "Compute the standard deviation of urine values across participants **for all** time points using built-in pandas functionality. Save it in a variable called \"std_urine_over_time\"."
   ]
  },
  {
   "cell_type": "code",
   "execution_count": null,
   "id": "3a786484",
   "metadata": {},
   "outputs": [],
   "source": []
  },
  {
   "cell_type": "markdown",
   "id": "29ba6c5b",
   "metadata": {
    "tags": []
   },
   "source": [
    "## Exercise 3 - Visualising data\n",
    "\n",
    "**OBS** Remember that all plots should have explanations attached to them. Concretely, you must include descriptive labels on the x-, and y-axis, as well as a plot title. When there are multiple plots in one window, you must also include descriptive legends."
   ]
  },
  {
   "cell_type": "markdown",
   "id": "2f35e6bc",
   "metadata": {},
   "source": [
    "a) Plot the urine values of the first participant. *Hint!* use the participant you already put in a variable in exercise 1 b)."
   ]
  },
  {
   "cell_type": "code",
   "execution_count": null,
   "id": "ad676d54",
   "metadata": {},
   "outputs": [],
   "source": [
    "# hint! We import plotting functionality from matplotlib.pyplot, \n",
    "# if you are used to using pylab, then this should be familiar.\n",
    "# The only difference is that we have to write \"plt.___\" before the functionality\n",
    "# we want to use, e.g. \"plt.plot(___)\" instead of \"plot(___)\".\n",
    "import matplotlib.pyplot as plt\n"
   ]
  },
  {
   "cell_type": "markdown",
   "id": "2a7d573d",
   "metadata": {},
   "source": [
    "**b)** Complete the following program (fill in the blanks '\\_\\_\\_') to plot the urine values FOR ALL participants."
   ]
  },
  {
   "cell_type": "code",
   "execution_count": null,
   "id": "b9dae859",
   "metadata": {},
   "outputs": [],
   "source": [
    "# loop through all participants\n",
    "for participant_index in range(len(urine_data)):\n",
    "    # select urine value for current participant (one column of the table)\n",
    "    urine_person_i = urine_data.iloc[___]\n",
    "    # plot the urine values of that person, and add a legend-label describing which participant it is\n",
    "    plt.plot(____, label=participant_index)\n",
    "    \n",
    "# add plot descriptions\n",
    "plt.legend()\n",
    "plt.xlabel('time')\n",
    "plt.ylabel('urine-value')\n",
    "plt.title('urine values for all participants over time')"
   ]
  },
  {
   "cell_type": "markdown",
   "id": "f8f231f0",
   "metadata": {},
   "source": [
    "**c)** Notably, the plot becomes very cluttered when we are showing the urine values for many participants. This makes it hard to interpret the plot. To alleviate this we instead try to use some of the techniques from exercise 2. Then we can summarise urine values across participants for each time points, rather than showing all participant values directly. Hopefully, this will make our plot easier to interpret.\n",
    "\n",
    "\n",
    "Use the average urine values computed and stored in the variable \"average_urine_over_time\" from Exercise 2b) to plot the average urine values for all participants."
   ]
  },
  {
   "cell_type": "code",
   "execution_count": null,
   "id": "cf09ca83",
   "metadata": {},
   "outputs": [],
   "source": []
  },
  {
   "cell_type": "markdown",
   "id": "a0b30897",
   "metadata": {},
   "source": [
    "**d)** This is easier to read. However, now we removed all sense of variability in the data. Let's try to include a summary of the variability by including the standard deviation that we calculated and stored in a variable 'std_urine_over_time' in Exercise 2c). This essentially works by plotting a line above and below the mean value shifted by the standard deviation. Fortunately, there is already functionality in matplotlib for doing this called \"fill_between\". For convenience, we include the documentation to the function here: https://matplotlib.org/stable/gallery/lines_bars_and_markers/fill_between_demo.html\n",
    "\n",
    "Plot the average urine values for all participants, and include a shaded region around the mean that is +- the standard deviation of the participants."
   ]
  },
  {
   "cell_type": "code",
   "execution_count": null,
   "id": "5aef10e2",
   "metadata": {},
   "outputs": [],
   "source": [
    "plt.plot(average_urine_over_time)\n",
    "plt.fill_between(range(len(average_urine_over_time)), average_urine_over_time + ___, \n",
    "                 average_urine_over_time - ___, alpha=0.2)\n",
    "plt.xlabel(___)\n",
    "plt.ylabel(___)\n",
    "plt.title(___)"
   ]
  },
  {
   "cell_type": "markdown",
   "id": "59027eab",
   "metadata": {},
   "source": [
    "**e)** *Optional*. Our previous plot uses the mean as the solid line, and the shaded region from the +- standard deviation. When the data is normally distributed this gives a succinct insight into where (most of) the samples are (within one standard deviation from the mean). However, we do not know if the data is normally distributed. We can check this assumption by plotting data histograms.\n",
    "\n",
    "Plot a histogram of the urine at the first time step across all participants. How do you interpret this plot? Does the data appear normally distributed?\n",
    "\n",
    "*hint!* Check out matplotlibs hist(...) function."
   ]
  },
  {
   "cell_type": "code",
   "execution_count": null,
   "id": "c6462489",
   "metadata": {},
   "outputs": [],
   "source": []
  },
  {
   "cell_type": "markdown",
   "id": "b247a98a",
   "metadata": {},
   "source": [
    "## Exercise 4 - Test statistics (t-test)\n",
    "\n",
    "In this exercise we want to statistically test whether or not there is a difference between the urine values at the start of the experiment compared to at the end of the experiment. In statistics, there exists several strategies for making such a test. Importantly, there are different assumptions associacted with different tests. In this lab we will make the following assumptions:\n",
    "\n",
    "- The urine values are indepedent, identically distributed (i.i.d) at the two time steps.\n",
    "- The same participants delivered urine samples at the two time steps (equal sample size).\n",
    "- The variance is the same at the two time steps.\n",
    "\n",
    "With these assumptions we can use the **paired t-test**. Conversely, if e.g. we had a group that received medicine vs. another group receiving placebo, we could use an unpaired t-test. It is worth noting that there is also procedures for testing whether e.g. the variance is the same. In this way, one can check whether the third assumption is violated or not, and hence whether we have to search for an alternative test statistic."
   ]
  },
  {
   "cell_type": "markdown",
   "id": "d51547d0",
   "metadata": {},
   "source": [
    "**a)** To have an easy and smooth transition into the paired t-test in exercise 4 b), we start by doing a one-sample unpaired t-test. For this example, we will test whether or not the urine values at the first time step is different from a value $\\mu_0$. In this case we set $\\mu_0 = 6.198$, which is the estimated population mean value for people at the last time step when just drinking water. Our null-hypothesis becomes $H_0 : \\mu = \\mu_0$, and consequently our alternative hypothesis becomes $H_A : \\mu \\neq \\mu_0$.\n",
    "\n",
    "To test this we use the test statistic:\n",
    "\n",
    "$$\n",
    "t = \\frac{\\bar{x} - \\mu_0}{\\hat{\\sigma} / \\sqrt{N}}\n",
    "$$\n",
    "\n",
    "Below we provide code to get the necessary quantities to calculate the test statistic. Subsequently, we include some plotting functionality to show where your test-statistic lands relative to the hypothesised distribution. Lastly, we add *significance* markers for determining whether or not to keep or discard your null-hypothesis. \n",
    "\n",
    "(i) Complete the program by filling in the t_statistic blank '\\_\\_\\_\\_'.\n",
    "\n",
    "(ii) Should you keep or discard the null-hypothesis $H_0$? Try changing the *significance_level*-variable - can you find a value where you would change your statement about keeping or discarding the null-hypothesis? \n",
    "\n",
    "(iii) Do you have any concerns about changing your significance level to change your statement about keeping or discarding the null-hypothesis?"
   ]
  },
  {
   "cell_type": "code",
   "execution_count": null,
   "id": "547684a7",
   "metadata": {},
   "outputs": [],
   "source": [
    "import numpy as np\n",
    "# set and get the quantities we need\n",
    "mu_0 = 6.198\n",
    "N = len(urine_time_one)\n",
    "x_bar = np.mean(urine_time_one)\n",
    "sigma_hat = np.std(urine_time_one)\n",
    "significance_level = 0.05 # <----- CHANGE THIS VALUE\n",
    "\n",
    "# calculate our test statistic\n",
    "t_statistic = ____        # <----- code here\n",
    "print(t_statistic)\n",
    "\n",
    "\"\"\"\n",
    "Visualise where our test statistic lands relative to our null-hypothesis\n",
    "\"\"\"\n",
    "from scipy.stats import t as student_t\n",
    "alpha = student_t.ppf(significance_level, df=N-1)\n",
    "x_range = max(abs(t_statistic)*1.2,abs(alpha)*1.2)\n",
    "xs = np.linspace(-x_range,x_range,1000) # mesh the line from -5 to 5\n",
    "ys = student_t.pdf(xs,df=N-1)\n",
    "\n",
    "# plot hypothesised student-t distribution\n",
    "plt.plot(xs, ys, label='Test distribution', color='teal') # teal is a nice color :)\n",
    "# plot the calculated t-statistic\n",
    "plt.axvline(t_statistic, ls=':', label='Test-statistic')\n",
    "# plot the significance level cutoff\n",
    "plt.axvline(alpha, ls='--', color='red')\n",
    "plt.axvline(-alpha, ls='--', color='red')\n",
    "\n",
    "# add descriptions\n",
    "plt.legend()\n",
    "plt.ylabel('$f(t)$')\n",
    "plt.xlabel('t')\n",
    "plt.title('Hypothesised t-distribution, and test-statistic')"
   ]
  },
  {
   "cell_type": "markdown",
   "id": "de841280",
   "metadata": {},
   "source": [
    "**b)** Now we will do the paired t-test to test whether the urine values are *significantly* different at the first and last time points. Luckily the paired t-test is relatively similiar to the unpaired, one sample t-test.\n",
    "\n",
    "The test statistic is given as \n",
    "\n",
    "$$\n",
    "t = \\frac{\\bar{d} - \\mu_d}{\\hat{\\sigma}_d / \\sqrt{N}}\n",
    "$$\n",
    "\n",
    "where $d_i$ is the difference in urine value of person $i$ between the first and the last time step, mathematically this can be written as $d_i = x^{t_{last}}_i - x^{t_{first}}_i$, where $t_{last}$ and $t_{first}$ denotes the first and last time step. $\\bar{d}$ is the mean of the $d_i$'s as described in exercise 2b), Equation (1). Similarily, $\\hat{\\sigma}_d$ is the standard deviation of the $d_i$'s.\n",
    "\n",
    "We will test the null-hypothesis $H_0 : \\mu_d = \\mu_0$ where we set $\\mu_0 = 0$, i.e. no difference between the urine values of the first and last time step."
   ]
  },
  {
   "cell_type": "code",
   "execution_count": null,
   "id": "5737ea85",
   "metadata": {},
   "outputs": [],
   "source": [
    "# set and get the quantities we need\n",
    "mu_d = 0\n",
    "N = len(urine_time_one)\n",
    "urine_time_last = urine_data.iloc[___] # <----- code here\n",
    "ds = urine_time_last - urine_time_one\n",
    "d_bar = ___                            # <----- code here\n",
    "sigma_hat_d = np.std(ds)\n",
    "significance_level = 0.05\n",
    "\n",
    "# calculate our test statistic\n",
    "t_statistic = (d_bar - mu_0) / (sigma_hat_d / np.sqrt(N))\n",
    "print(t_statistic)\n",
    "\n",
    "\"\"\"\n",
    "Visualise where our test statistic lands relative to our null-hypothesis\n",
    "\"\"\"\n",
    "from scipy.stats import t as student_t\n",
    "alpha = student_t.ppf(significance_level, df=N-1)\n",
    "x_range = max(abs(t_statistic)*1.2,abs(alpha)*1.2)\n",
    "xs = np.linspace(-x_range,x_range,1000) # mesh the line from -5 to 5\n",
    "ys = student_t.pdf(xs,df=N-1)\n",
    "\n",
    "# plot hypothesised student-t distribution\n",
    "plt.plot(xs, ys, label='Test distribution', color='teal') # teal is a nice color :)\n",
    "# plot the calculated t-statistic\n",
    "plt.axvline(t_statistic, ls=':', label='Test-statistic')\n",
    "# plot the significance level cutoff\n",
    "plt.axvline(alpha, ls='--', color='red')\n",
    "plt.axvline(-alpha, ls='--', color='red')\n",
    "\n",
    "# add descriptions\n",
    "plt.legend()\n",
    "plt.ylabel('$f(t)$')\n",
    "plt.xlabel('t')\n",
    "plt.title('Hypothesised t-distribution, and test-statistic')"
   ]
  },
  {
   "cell_type": "markdown",
   "id": "efc7e458",
   "metadata": {},
   "source": [
    "**c)** Does the statistical test results comply with your intuition? How does this relate to the plot in Exercise  3d)?"
   ]
  },
  {
   "cell_type": "markdown",
   "id": "6b6ee80c",
   "metadata": {},
   "source": []
  }
 ],
 "metadata": {
  "kernelspec": {
   "display_name": "Python 3.9.1 64-bit",
   "language": "python",
   "name": "python3"
  },
  "language_info": {
   "codemirror_mode": {
    "name": "ipython",
    "version": 3
   },
   "file_extension": ".py",
   "mimetype": "text/x-python",
   "name": "python",
   "nbconvert_exporter": "python",
   "pygments_lexer": "ipython3",
   "version": "3.9.1"
  },
  "vscode": {
   "interpreter": {
    "hash": "5c6ec2b7516f46cfa648d28982be9e01c30276a1ee70e165feac001527acdc7a"
   }
  }
 },
 "nbformat": 4,
 "nbformat_minor": 5
}
