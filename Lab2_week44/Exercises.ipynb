{
 "cells": [
  {
   "cell_type": "markdown",
   "metadata": {},
   "source": [
    "## Spike train analysis"
   ]
  },
  {
   "cell_type": "markdown",
   "metadata": {},
   "source": [
    "In the wet lab this week you will study spikes, representing action potentials, in cockroach legs. Different types of sensory neurons respond to different stimuli, including pain, pressure, stretch, or chemicals. Cockroaches use their antennae and cerci to receive information from their environment. Each cercus is covered with a large number of long, sensitive, tactile hairs or \"sensilla\", which are a lot finer than the spines on the cockroach’s legs. A microscopic view of the hairs shows many specializations in size, shape, and spatial distribution, which allow these hairs to be stimulated by a variety of stimuli, including vibrations, air movements, and low frequency sound waves. The cockroach leg is studded with stiff hairs and spines. At the base of each spine is a single sensory neuron. The cell body of the neuron lies just under the cuticle of the spine, with the unbranched dendrite of the neuron projecting up through the overlying cuticle. In the wet lab we will apply pressure to individual spines using toothpicks to stimulate spiking. Here's an illustration of the experimental setup and a cockroach spine:\n",
    "<!-- dom:FIGURE: [./figures/cockroach-intro-illustration.png, height=400 width=600 frac=0.8] -->\n",
    "<!-- begin figure -->\n",
    "\n",
    "<p></p>\n",
    "<img src=\"./figures/cockroach-intro-illustration.png\" height=400 width=600>\n",
    "\n",
    "<!-- end figure -->"
   ]
  },
  {
   "cell_type": "markdown",
   "metadata": {},
   "source": [
    "In one of the exercises you are supposed to calculate the so-called inter-spike intervals (ISI) and use that to study adaptation. In the wet lab you will have a program that calculates the ISI and the frequency of firing for you, but here we will dig a bit more into how you find the ISI and what you can use it for."
   ]
  },
  {
   "cell_type": "markdown",
   "metadata": {},
   "source": [
    "In this assignment we will provide you with spike trains recorded in mouse primary visual cortex. One dataset is from a recording where the mouse was presented with a full field flash stimulus, and the other dataset is from a recording where the mouse was not presented with any stimulus - thus, during spontaneous activity. Even though it's a different animal and a different part of the nervous system, the scenario is analagous to the experiment you will do in the wet lab, where you will record during stimulation of a cockroach spines and during no stimulation and compare the spikes from the two conditions.\n",
    "\n",
    "Below is an illustration of inter-spike intervals. The black lines mark the spikes and the red lines mark the ISI's. Here we have trials on the y-axis, but it could also be neurons."
   ]
  },
  {
   "cell_type": "markdown",
   "metadata": {},
   "source": [
    "<!-- dom:FIGURE: [./figures/isi-illustration.png, height=400 width=600 frac=0.8] -->\n",
    "<!-- begin figure -->\n",
    "\n",
    "<p></p>\n",
    "<img src=\"./figures/isi-illustration.png\" height=400 width=600>\n",
    "\n",
    "<!-- end figure -->"
   ]
  },
  {
   "cell_type": "markdown",
   "metadata": {},
   "source": [
    "## Exercise 1: Load and look at spike trains data from recording during stimulus"
   ]
  },
  {
   "cell_type": "markdown",
   "metadata": {},
   "source": [
    "**a)**\n",
    "\n",
    "We will start by loading the spike trains from the recording flash stimulus period. The data are stored in a binary file with a **.npy format**. This means that you need numpy to read the data, so start by importing numpy. Then use the numpy load function (https://numpy.org/doc/stable/reference/generated/numpy.load.html) to read the data in the file named `spike_trains_flash.npy` into a variable named `spikes_stimulus`."
   ]
  },
  {
   "cell_type": "code",
   "execution_count": null,
   "metadata": {},
   "outputs": [],
   "source": [
    "# import numpy here\n"
   ]
  },
  {
   "cell_type": "code",
   "execution_count": null,
   "metadata": {},
   "outputs": [],
   "source": []
  },
  {
   "cell_type": "markdown",
   "metadata": {},
   "source": [
    "The data is organised into the dimensions number of neurons, number of trials, and trial duration. You can check the size of each dimension running the cell below where it reads `spikes_stimulus.shape`."
   ]
  },
  {
   "cell_type": "code",
   "execution_count": null,
   "metadata": {},
   "outputs": [],
   "source": [
    "spikes_stimulus.shape"
   ]
  },
  {
   "cell_type": "markdown",
   "metadata": {},
   "source": [
    "**b)**\n",
    "\n",
    "Hopefully the numbers 101, 75, and 150 popped up. That means that there are 110 neurons, recorded for 75 trials, each trial lasting 150 milliseconds in this dataset. The neurons are the first dimension, the trials are the second dimension, and the trial time points filled with 1's and 0's are the third dimension. 1 indicates a spike and 0 indicates no spike at that time point. For easier use later on, it can be advantageous to store these numbers for the dimensions in variables named `Nneurons`, `Ntrials`, and `trial_duration`. Fill in the blanks in the next cell to get the the number of neurons, number of trials, and trial duration from the shape of the array.\n",
    "\n",
    "**Hint:** Put indeces at the end of `shape` to access only the number of trials, trial duration, or number of cells on each line."
   ]
  },
  {
   "cell_type": "code",
   "execution_count": null,
   "metadata": {},
   "outputs": [],
   "source": [
    "Nneurons = __\n",
    "Ntrials = ___\n",
    "trial_duration = ___"
   ]
  },
  {
   "cell_type": "markdown",
   "metadata": {},
   "source": [
    "**c)**\n",
    "\n",
    "We start by taking a quick look at the data. Put the data from a single neuron into a variable that you name `spikes_stimulus_one_neuron` by accessing the cell at index \"index_neuron\" in the dataset `spikes_stimulus`. We've already selected a neuron index (`index_neuron = 85`) and started on the line of code you need to extract the spike trains of that one neuron and put it into a variable, so all you need to do is to fill in the blanks."
   ]
  },
  {
   "cell_type": "code",
   "execution_count": null,
   "metadata": {},
   "outputs": [],
   "source": [
    "index_neuron = 85\n",
    "\n",
    "spikes_stimulus_one_neuron = ___"
   ]
  },
  {
   "cell_type": "markdown",
   "metadata": {},
   "source": [
    "**d)**\n",
    "\n",
    "Next, we pick a single trial from the spike trains of that one neuron (`spikes_stimulus_one_neuron`) and put them in a variable named `spikes_stimulus_one_neuron_single_trial`. Fill in the blanks in the next cell to access the selected trial and put the spike train in the aforementioned variable."
   ]
  },
  {
   "cell_type": "code",
   "execution_count": null,
   "metadata": {},
   "outputs": [],
   "source": [
    "index_trial = 2\n",
    "\n",
    "spikes_stimulus_one_neuron_single_trial = ___"
   ]
  },
  {
   "cell_type": "markdown",
   "metadata": {},
   "source": [
    "**e)**\n",
    "\n",
    "Let's plot the spike train for that selected trial and neuron. Import matplotlib.pyplot (or whichever plotting library you prefer, but keep in mind that you need to adapt the code in the plotting cells if you use a different one), and fill in the blanks to plot the spike train."
   ]
  },
  {
   "cell_type": "code",
   "execution_count": null,
   "metadata": {},
   "outputs": [],
   "source": [
    "# import matplotlib here"
   ]
  },
  {
   "cell_type": "code",
   "execution_count": null,
   "metadata": {},
   "outputs": [],
   "source": [
    "#plt.plot(___)\n",
    "plt.xlabel('Time (ms)')\n",
    "plt.title('Spike train of neuron nr. '+str(index_neuron) + ' in trial nr. '+str(index_trial)+'\\nduring stimulus')\n",
    "plt.yticks([]);"
   ]
  },
  {
   "cell_type": "markdown",
   "metadata": {},
   "source": [
    "#### Comment:\n",
    "Observe in the plot above that some peaks are broader than the others (the peaks at around 30 and 50 ms f. ex.). That's because it's actually two spikes that are so close that they are plotted as one peak. Of course, it can happen that a neuron fires at a very high frequency, but in these cases the inter-spike interval is 1 ms, which is so small that in all likelihood one of the spikes comes from a different neuron in the vicinity of the recording electrode, and that spike has been mistakenly assigned to this neuron. This kind of pollution of the recorded signal can happen in your experiments too. It might show up as an increased amplitude of the action potential relative to other, non-polluted action potentials. In the plot below we have illustrated this for the neuron and trial selected from this dataset.\n",
    "\n",
    "*No need to answer anything or add any code here, just run the next two cells and keep this in mind for the wet lab.*"
   ]
  },
  {
   "cell_type": "code",
   "execution_count": null,
   "metadata": {},
   "outputs": [],
   "source": [
    "from scipy.ndimage import gaussian_filter1d"
   ]
  },
  {
   "cell_type": "code",
   "execution_count": null,
   "metadata": {},
   "outputs": [],
   "source": [
    "filtered_spikes_plot = gaussian_filter1d(spikes_stimulus_one_neuron_single_trial, sigma = 1)\n",
    "plt.plot(filtered_spikes_plot)\n",
    "plt.yticks([]);"
   ]
  },
  {
   "cell_type": "markdown",
   "metadata": {},
   "source": [
    "## Exercise 2: Finding the inter-spike interval (ISI) and the rates of the selected neuron"
   ]
  },
  {
   "cell_type": "markdown",
   "id": "06a0a8eb",
   "metadata": {},
   "source": [
    "Now we can find the ISI of the spike trains of that one neuron in the selected trial. To do that, we first need to convert the spike trains into timestamps. That means that we get an array containing the timepoints at which a spike occurred. We've done that for you here with the \"numpy.where\" function, which can be used to find the indices where you find elements satisfying a certain condition (in this case, where there are 1's signifying spikes are in the array). It's possible to loop through the timestamps and find the time difference between subsequent spikes, but luckily, there is a function in numpy called \"diff\" that you can use instead.\n",
    "\n",
    "**a)**\n",
    "\n",
    "Fill in the blanks in the next cell to get the ISI of this neuron in the selected trial.\n",
    "\n"
   ]
  },
  {
   "cell_type": "code",
   "execution_count": null,
   "id": "e88cae1d",
   "metadata": {},
   "outputs": [],
   "source": [
    "# first we convert the spike train array into an array of timestamps denoting when the spikes occured\n",
    "ts_stimulus_one_neuron_single_trial = np.where(spikes_stimulus_one_neuron_single_trial == 1)[0]\n",
    "\n",
    "# now we find the difference (the interval) between the spike timestamps and thus we get the ISI \n",
    "ISI_stimulus_one_neuron_single_trial = np.diff(___)\n",
    "\n",
    "# We print the ISI of the selected neuron in the selected trial. The intervals are given in milliseconds\n",
    "ISI_stimulus_one_neuron_single_trial"
   ]
  },
  {
   "cell_type": "markdown",
   "id": "a5c53fb2",
   "metadata": {},
   "source": [
    "**b)**\n",
    "\n",
    "Now we'll find the frequency of this cell from the ISI. That's done by taking the inverse of the ISI (that is, dividing by it). Fill in the blanks in the next cell."
   ]
  },
  {
   "cell_type": "code",
   "execution_count": null,
   "id": "5f59d2e5",
   "metadata": {},
   "outputs": [],
   "source": [
    "rate_stimulus_one_neuron_single_trial = (___)*1E3 # multiply with 1E3 to scale to Hz\n",
    "\n",
    "rate_stimulus_one_neuron_single_trial"
   ]
  },
  {
   "cell_type": "markdown",
   "id": "f88e0a18",
   "metadata": {},
   "source": [
    "## Exercise 3: Load and look at spike trains data from recording during spontaneous activity"
   ]
  },
  {
   "cell_type": "markdown",
   "id": "13d07c69",
   "metadata": {},
   "source": [
    "Now we'll load the spike trains from the recording during spontaneous activity, which we'll use for comparison.\n",
    "\n",
    "**a)**\n",
    "\n",
    "Load the file `spike_trains_spontaneous.npy`into a variable named `spikes_spont`in the next cell (you can just copy the code from when you loaded spike trains above and adapt the filename and the variable name)."
   ]
  },
  {
   "cell_type": "code",
   "execution_count": null,
   "id": "ec20e86f",
   "metadata": {},
   "outputs": [],
   "source": []
  },
  {
   "cell_type": "markdown",
   "id": "5f860296",
   "metadata": {},
   "source": [
    "Let's just take a quick look at the spike trains for the same cell as above (no need to change anything, just run the cell below)."
   ]
  },
  {
   "cell_type": "code",
   "execution_count": null,
   "id": "d4bcb65b",
   "metadata": {},
   "outputs": [],
   "source": [
    "index_trial = 2\n",
    "spikes_spont_one_neuron = spikes_spont[index_neuron]\n",
    "spikes_spont_one_neuron_single_trial = spikes_spont_one_neuron[index_trial,:]\n",
    "plt.plot(spikes_spont_one_neuron_single_trial)\n",
    "plt.xlabel('Time (ms)')\n",
    "plt.title('Spike train of neuron nr. '+str(index_neuron) + ' in trial nr. '+str(index_trial)+'\\nduring spontaneous activity')\n",
    "plt.yticks([]);"
   ]
  },
  {
   "cell_type": "markdown",
   "id": "f3225225",
   "metadata": {},
   "source": [
    "**b)**\n",
    "\n",
    "Do you notice a difference in the firing pattern of this cell here during spontaneous firing compared to during stimulation above? Focus on the intervals and give a short (one sentence) qualitative description of the differences."
   ]
  },
  {
   "cell_type": "markdown",
   "id": "7e3b6559",
   "metadata": {},
   "source": [
    "**Answer:** "
   ]
  },
  {
   "cell_type": "markdown",
   "id": "0e5fad81",
   "metadata": {},
   "source": [
    "## Exercise 4:"
   ]
  },
  {
   "cell_type": "markdown",
   "id": "9da9e29e",
   "metadata": {},
   "source": [
    "Of course, just picking two spike trains from the two different conditions and comparing them qualitatively is not a proper analysis. You can always find spike trains that fit any story you would like to tell. Now, we'll loop through all cells and all trials and compute the ISI and the rates for every neuron, so that we can do a quantitative comparison of the firing patterns in the two conditions.\n",
    "\n",
    "**a)**\n",
    "\n",
    "Fill in the blanks in the cell below to create a function named `compute_rates_from_ISI` that you can use to calculate the ISI and the frequency of firing (rates). You can just copy and adapt the code you wrote for the single trial from a single neuron where appropriate."
   ]
  },
  {
   "cell_type": "code",
   "execution_count": null,
   "id": "e056827a",
   "metadata": {},
   "outputs": [],
   "source": [
    "def compute_rates_from_ISI(spikes):\n",
    "    \n",
    "    Nnrns, Ntrials, trial_dur = spikes.shape\n",
    "\n",
    "    rates_all = list()\n",
    "\n",
    "    ISI_all = list()\n",
    "    ISI_by_neurons = list()\n",
    "\n",
    "    for index_neuron in range(Nnrns):\n",
    "        # looping through all neurons\n",
    "        ISI_trials = list()\n",
    "        for index_trial in range(Ntrials):\n",
    "            # looping through all trials\n",
    "            \n",
    "            # converting spike train to timestamps\n",
    "            ts = np.where(spikes[index_neuron, index_trial, :])[0] \n",
    "\n",
    "            if len(ts) < 2:\n",
    "                # there are no or only one spike in this trial for this neuron, so the rate will be 1/(trial duration)\n",
    "                rate = len(ts)/trial_dur\n",
    "                rates_all.append(rate)\n",
    "            else:\n",
    "                # ISI = ___                   <----------- Code here\n",
    "                # rates = ___                 <----------- Code here Rate in kHz, don't multiply by 1E3\n",
    "                for i, rate in enumerate(rates):\n",
    "                    rates_all.append(rate)\n",
    "\n",
    "                    ISI_all.append(ISI[i])\n",
    "                    ISI_trials.append(ISI[i])\n",
    "\n",
    "        ISI_by_neurons.append(ISI_trials)\n",
    "        \n",
    "    ISI_all = np.array(ISI_all)\n",
    "    rates_all = np.array(rates_all)*1E3\n",
    "    \n",
    "    return rates_all, ISI_all, ISI_by_neurons"
   ]
  },
  {
   "cell_type": "markdown",
   "id": "6b39db06",
   "metadata": {},
   "source": [
    "**b)**\n",
    "\n",
    "In the next two cells, insert the spike trains data from the stimulus recording and the spontaneous activity recording, respectively, as the parameter to use the function above."
   ]
  },
  {
   "cell_type": "code",
   "execution_count": null,
   "id": "b6e6f7dc",
   "metadata": {},
   "outputs": [],
   "source": [
    "rates_stimulus, ISI_stimulus, ISI_by_neurons_stimulus = compute_rates_from_ISI(___)"
   ]
  },
  {
   "cell_type": "code",
   "execution_count": null,
   "id": "02f5bd2c",
   "metadata": {},
   "outputs": [],
   "source": [
    "rates_spont, ISI_spont, ISI_by_neurons_spont = compute_rates_from_ISI(___)"
   ]
  },
  {
   "cell_type": "markdown",
   "id": "05b400a7",
   "metadata": {},
   "source": [
    "**c)**\n",
    "\n",
    "Fill in the blanks with firing ratescorresponding to the two conditions\n",
    "\n",
    "Run the cell below to make histograms of firing rates in the two conditions.\n",
    "\n",
    "What's the difference between the distribution of firing rates in the two conditions? What's the interpretation of this difference? Write your answer in the answer cell below."
   ]
  },
  {
   "cell_type": "markdown",
   "id": "748dbb2d",
   "metadata": {},
   "source": [
    "**Answer:** "
   ]
  },
  {
   "cell_type": "code",
   "execution_count": null,
   "id": "4db0618d",
   "metadata": {},
   "outputs": [],
   "source": [
    "N = 201\n",
    "bins = np.linspace(0,np.nanmax(rates_stimulus), N+1)\n",
    "\n",
    "plt.hist(___, bins = bins, alpha = 0.7, label = 'Spontaneous', density = True)\n",
    "plt.hist(___, bins = bins, alpha = 0.5, label = 'Stimulation', color = 'r', density = True)\n",
    "\n",
    "plt.xlim([0,200])\n",
    "plt.xlabel('Rate (kHz)')\n",
    "plt.ylabel('Density of trials')\n",
    "plt.title('Rates in trials in the two conditions')\n",
    "plt.legend()"
   ]
  },
  {
   "cell_type": "markdown",
   "id": "e3ad4ac4",
   "metadata": {},
   "source": [
    "## Exercise 5: Bursting, tonic, or Poisson firing?\n",
    "One advantage of calculating the ISI is that you can determine whether the neuron is in a bursting mode, tonic mode, or Poisson firing mode. That's done by calculating the coefficient of variation squared ($CV^2$) according to this formula:\n",
    "\n",
    "$$CV^2 = {{\\sigma_{ISI}^{2}} \\over {\\mu_{ISI}^{2}}}$$\n",
    "\n",
    "where $\\sigma_{ISI}^{2}$ is the variability of the ISI and $\\mu_{ISI}^{2}$ is the average ISI squared.\n",
    "\n",
    "Here is an illustration of the tonic and bursting firing modes (figure from Neuronal Dynamics: From Single Neurons to Networks and Models of Cognition, Gerstner, Kistler, Naud, and Paninski).\n",
    "\n",
    "\n",
    "<!-- dom:FIGURE: [./figures/tonic-bursting-illustration.png, height=400 width=600 frac=0.8] -->\n",
    "<!-- begin figure -->\n",
    "\n",
    "<p></p>\n",
    "<img src=\"./figures/tonic-bursting-illustration.png\" height=400 width=600>\n",
    "\n",
    "<!-- end figure -->\n",
    "\n",
    "\n",
    "The interpretation of this number goes as follows: If $CV^2 = 0$, that means that there is **no variability** in the inter-spike intervals, hence, the neuron is in tonic firing mode - it fires at the exact same rhythm all the time. If $CV^2 = 1$, then the neuron is in a Poisson firing mode - there is no relationship between the intervals between spikes, the neuron fires at random. If $CV^2 > 1$, then the neuron is in bursting mode - there is a lot of variability in the firing intervals because in some periods the neuron fires a lot, so the intervals are very short, then it will (usually) begin to adapt and fire less and less, which means that the inter-spike intervals increase."
   ]
  },
  {
   "cell_type": "markdown",
   "id": "06405410",
   "metadata": {},
   "source": [
    "**a)**\n",
    "\n",
    "We'll do a (somewhat coarse) analysis of whether the neurons are in a different mode during the stimulation compared to during spontaneous activity. Fill in the blanks with ISI_stim (inter-spike intervals for all neurons in the stimulus recording) and ISI_spont (inter-spike intervals for all neurons in the spontaneous activity recording) where appropriate in the cell below to calculate the $CV^2$ for ISI from all cells and trials in the two conditions."
   ]
  },
  {
   "cell_type": "code",
   "execution_count": null,
   "id": "719e58d5",
   "metadata": {},
   "outputs": [],
   "source": [
    "CVsq_stim = np.var(___)/np.mean(___)**2\n",
    "CVsq_spont = np.var(___)/np.mean(___)**2\n",
    "\n",
    "print('During stimulation: CV^2 = ', np.round(CVsq_stim, 2))\n",
    "print('During spontaneous activity: CV^2 = ', np.round(CVsq_spont, 2))"
   ]
  },
  {
   "cell_type": "markdown",
   "id": "16673771",
   "metadata": {},
   "source": [
    "**b)** \n",
    "\n",
    "Based on these results, what is the difference in firing modes in the two conditions?"
   ]
  },
  {
   "cell_type": "markdown",
   "id": "9ddf32c0",
   "metadata": {},
   "source": [
    "**Answer:** "
   ]
  },
  {
   "cell_type": "markdown",
   "id": "9e395c24",
   "metadata": {},
   "source": [
    "**c)** ***Optional:***\n",
    "\n",
    "A more sophisticated analysis would be to compute $CV^2$ for each neuron in both conditions and do a statistical comparison of the distributions of $CV^2$-values from the two conditions. Fill in the blanks in the next cells to complete the code to get the distributions of $CV^2$-values and do the statistical test. Are the $CV^2$-values statistically different in the stimulus and spontaneous condition?"
   ]
  },
  {
   "cell_type": "markdown",
   "id": "8abbff7a",
   "metadata": {},
   "source": [
    "**Answer:**"
   ]
  },
  {
   "cell_type": "code",
   "execution_count": null,
   "id": "e27e8638",
   "metadata": {},
   "outputs": [],
   "source": [
    "CVsq_spont_neurons = list()\n",
    "CVsq_stim_neurons = list()\n",
    "\n",
    "for index_neuron in range(Nneurons): # <------ Code here\n",
    "    if len(ISI_by_neurons_spont[index_neuron]) > 0 and len(ISI_by_neurons_stimulus[index_neuron]) > 0:\n",
    "        CVsq_spont_neurons.append(np.var(___)/np.mean(___)**2) # <--- Code Here\n",
    "        CVsq_stim_neurons.append(np.var(___)/np.mean(___)**2) # <--- Code Here\n",
    "        \n",
    "CVsq_spont_neurons = np.array(CVsq_spont_neurons)\n",
    "CVsq_stim_neurons = np.array(CVsq_stim_neurons)"
   ]
  },
  {
   "cell_type": "markdown",
   "id": "8d27b861",
   "metadata": {},
   "source": [
    "Make boxplots of the distributions of $CV^2$ for the two conditions. (No need to add code in the next cell.)"
   ]
  },
  {
   "cell_type": "code",
   "execution_count": null,
   "id": "6ea03be6",
   "metadata": {},
   "outputs": [],
   "source": [
    "plt.boxplot([CVsq_spont_neurons, CVsq_stim_neurons], positions = [0.8, 1.2]);\n",
    "plt.xticks([0.8,1.2], ['Spontaneous', 'Stimulation'])\n",
    "plt.ylabel('CV$^2$')\n",
    "plt.title('Distribtions of CV$^2$')"
   ]
  },
  {
   "cell_type": "markdown",
   "id": "7d19dfaf",
   "metadata": {},
   "source": [
    "Fill in the blanks in the next cell to do a Kolmogorov-Smirnov statistical test (KS-test) to find out if the two distributions are statistically different if we set p<0.05 as the criterion for statistical significance."
   ]
  },
  {
   "cell_type": "code",
   "execution_count": null,
   "id": "c8371f7e",
   "metadata": {},
   "outputs": [],
   "source": [
    "from scipy import stats\n",
    "ks_dist, p = stats.ks_2samp(___, ___)\n",
    "print('p = '+str(p))"
   ]
  },
  {
   "cell_type": "code",
   "execution_count": null,
   "id": "21486138",
   "metadata": {},
   "outputs": [],
   "source": []
  }
 ],
 "metadata": {
  "kernelspec": {
   "display_name": "Python 3",
   "language": "python",
   "name": "python3"
  },
  "language_info": {
   "codemirror_mode": {
    "name": "ipython",
    "version": 3
   },
   "file_extension": ".py",
   "mimetype": "text/x-python",
   "name": "python",
   "nbconvert_exporter": "python",
   "pygments_lexer": "ipython3",
   "version": "3.7.6"
  }
 },
 "nbformat": 4,
 "nbformat_minor": 5
}
